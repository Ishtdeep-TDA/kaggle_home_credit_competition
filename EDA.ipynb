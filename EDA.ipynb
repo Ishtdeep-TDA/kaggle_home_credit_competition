{
 "cells": [
  {
   "cell_type": "code",
   "execution_count": 51,
   "metadata": {},
   "outputs": [],
   "source": [
    "import numpy as np\n",
    "import pandas as pd\n",
    "import os\n",
    "from collections import defaultdict"
   ]
  },
  {
   "cell_type": "code",
   "execution_count": 72,
   "metadata": {},
   "outputs": [
    {
     "name": "stdout",
     "output_type": "stream",
     "text": [
      "The autoreload extension is already loaded. To reload it, use:\n",
      "  %reload_ext autoreload\n"
     ]
    }
   ],
   "source": [
    "%load_ext autoreload\n",
    "%autoreload 2\n",
    "# IMPORT STATIC VARIABLES FROM CONFIG\n",
    "# from local_config_laptop import *\n",
    "from local_config_pc import *\n",
    "from utils import *"
   ]
  },
  {
   "cell_type": "code",
   "execution_count": 70,
   "metadata": {},
   "outputs": [
    {
     "name": "stdout",
     "output_type": "stream",
     "text": [
      "G:\\Data Science\\Datasets\\Credit Risk Model Stability\\csv_files/train/\n",
      "G:\\Data Science\\Datasets\\Credit Risk Model Stability\\csv_files\\optimized_df/\n"
     ]
    }
   ],
   "source": [
    "print(train_path)\n",
    "print(optimized_df_path)"
   ]
  },
  {
   "cell_type": "code",
   "execution_count": 56,
   "metadata": {},
   "outputs": [
    {
     "name": "stdout",
     "output_type": "stream",
     "text": [
      "['train_applprev_1_0.csv', 'train_applprev_1_1.csv', 'train_applprev_2.csv', 'train_base.csv', 'train_credit_bureau_a_1_0.csv', 'train_credit_bureau_a_1_1.csv', 'train_credit_bureau_a_1_2.csv', 'train_credit_bureau_a_1_3.csv', 'train_credit_bureau_a_2_0.csv', 'train_credit_bureau_a_2_1.csv', 'train_credit_bureau_a_2_10.csv', 'train_credit_bureau_a_2_2.csv', 'train_credit_bureau_a_2_3.csv', 'train_credit_bureau_a_2_4.csv', 'train_credit_bureau_a_2_5.csv', 'train_credit_bureau_a_2_6.csv', 'train_credit_bureau_a_2_7.csv', 'train_credit_bureau_a_2_8.csv', 'train_credit_bureau_a_2_9.csv', 'train_credit_bureau_b_1.csv', 'train_credit_bureau_b_2.csv', 'train_debitcard_1.csv', 'train_deposit_1.csv', 'train_other_1.csv', 'train_person_1.csv', 'train_person_2.csv', 'train_static_0_0.csv', 'train_static_0_1.csv', 'train_static_cb_0.csv', 'train_tax_registry_a_1.csv', 'train_tax_registry_b_1.csv', 'train_tax_registry_c_1.csv']\n",
      "['train_applprev_1_0.csv', 'train_applprev_1_1.csv', 'train_applprev_2.csv', 'train_base.csv', 'train_credit_bureau_a_1_0.csv', 'train_credit_bureau_a_1_1.csv', 'train_credit_bureau_a_1_2.csv', 'train_credit_bureau_a_1_3.csv', 'train_credit_bureau_a_2_0.csv', 'train_credit_bureau_a_2_1.csv', 'train_credit_bureau_a_2_10.csv', 'train_credit_bureau_a_2_2.csv', 'train_credit_bureau_a_2_3.csv', 'train_credit_bureau_a_2_4.csv', 'train_credit_bureau_a_2_5.csv', 'train_credit_bureau_a_2_6.csv', 'train_credit_bureau_a_2_7.csv', 'train_credit_bureau_a_2_8.csv', 'train_credit_bureau_a_2_9.csv', 'train_credit_bureau_b_1.csv', 'train_credit_bureau_b_2.csv', 'train_debitcard_1.csv', 'train_deposit_1.csv', 'train_other_1.csv', 'train_person_1.csv', 'train_person_2.csv', 'train_static_0_0.csv', 'train_static_0_1.csv', 'train_static_cb_0.csv', 'train_tax_registry_a_1.csv', 'train_tax_registry_b_1.csv', 'train_tax_registry_c_1.csv']\n"
     ]
    }
   ],
   "source": [
    "train_dfs = os.listdir(train_path)\n",
    "print(train_dfs)\n",
    "# train_dfs = [train_path + i for i in train_dfs]\n",
    "print(train_dfs)"
   ]
  },
  {
   "cell_type": "code",
   "execution_count": 58,
   "metadata": {},
   "outputs": [
    {
     "name": "stdout",
     "output_type": "stream",
     "text": [
      "{'tax', 'credit', 'debitcard', 'static', 'other', 'person', 'base.csv', 'deposit', 'applprev'}\n"
     ]
    }
   ],
   "source": [
    "data_categories = set([file_name.split(\"_\")[1] for file_name in train_dfs])\n",
    "print(data_categories)\n",
    "data = defaultdict(list)\n",
    "for file_name in train_dfs:\n",
    "    name_split = file_name.split(\"_\")\n",
    "    data[name_split[1]].append(train_path + file_name)"
   ]
  },
  {
   "cell_type": "code",
   "execution_count": 59,
   "metadata": {},
   "outputs": [
    {
     "name": "stdout",
     "output_type": "stream",
     "text": [
      "G:\\Data Science\\Datasets\\Credit Risk Model Stability\\csv_files/train/train_tax_registry_a_1.csv\n",
      "G:\\Data Science\\Datasets\\Credit Risk Model Stability\\csv_files/train/train_tax_registry_b_1.csv\n",
      "G:\\Data Science\\Datasets\\Credit Risk Model Stability\\csv_files/train/train_tax_registry_c_1.csv\n",
      "G:\\Data Science\\Datasets\\Credit Risk Model Stability\\csv_files/train/train_credit_bureau_a_1_0.csv\n"
     ]
    },
    {
     "name": "stderr",
     "output_type": "stream",
     "text": [
      "C:\\Users\\TheDarkAce\\AppData\\Local\\Temp\\ipykernel_3728\\159905399.py:15: DtypeWarning: Columns (11,12,14,30,44,54) have mixed types. Specify dtype option on import or set low_memory=False.\n",
      "  temp_df = pd.read_csv(path)\n"
     ]
    },
    {
     "name": "stdout",
     "output_type": "stream",
     "text": [
      "G:\\Data Science\\Datasets\\Credit Risk Model Stability\\csv_files/train/train_credit_bureau_a_1_1.csv\n",
      "G:\\Data Science\\Datasets\\Credit Risk Model Stability\\csv_files/train/train_credit_bureau_a_1_2.csv\n",
      "G:\\Data Science\\Datasets\\Credit Risk Model Stability\\csv_files/train/train_credit_bureau_a_1_3.csv\n",
      "G:\\Data Science\\Datasets\\Credit Risk Model Stability\\csv_files/train/train_credit_bureau_a_2_0.csv\n",
      "G:\\Data Science\\Datasets\\Credit Risk Model Stability\\csv_files/train/train_credit_bureau_a_2_1.csv\n",
      "G:\\Data Science\\Datasets\\Credit Risk Model Stability\\csv_files/train/train_credit_bureau_a_2_10.csv\n",
      "G:\\Data Science\\Datasets\\Credit Risk Model Stability\\csv_files/train/train_credit_bureau_a_2_2.csv\n",
      "G:\\Data Science\\Datasets\\Credit Risk Model Stability\\csv_files/train/train_credit_bureau_a_2_3.csv\n",
      "G:\\Data Science\\Datasets\\Credit Risk Model Stability\\csv_files/train/train_credit_bureau_a_2_4.csv\n",
      "G:\\Data Science\\Datasets\\Credit Risk Model Stability\\csv_files/train/train_credit_bureau_a_2_5.csv\n",
      "G:\\Data Science\\Datasets\\Credit Risk Model Stability\\csv_files/train/train_credit_bureau_a_2_6.csv\n",
      "G:\\Data Science\\Datasets\\Credit Risk Model Stability\\csv_files/train/train_credit_bureau_a_2_7.csv\n",
      "G:\\Data Science\\Datasets\\Credit Risk Model Stability\\csv_files/train/train_credit_bureau_a_2_8.csv\n",
      "G:\\Data Science\\Datasets\\Credit Risk Model Stability\\csv_files/train/train_credit_bureau_a_2_9.csv\n",
      "G:\\Data Science\\Datasets\\Credit Risk Model Stability\\csv_files/train/train_credit_bureau_b_1.csv\n"
     ]
    },
    {
     "name": "stderr",
     "output_type": "stream",
     "text": [
      "C:\\Users\\TheDarkAce\\AppData\\Local\\Temp\\ipykernel_3728\\159905399.py:15: DtypeWarning: Columns (32) have mixed types. Specify dtype option on import or set low_memory=False.\n",
      "  temp_df = pd.read_csv(path)\n"
     ]
    },
    {
     "name": "stdout",
     "output_type": "stream",
     "text": [
      "G:\\Data Science\\Datasets\\Credit Risk Model Stability\\csv_files/train/train_credit_bureau_b_2.csv\n",
      "G:\\Data Science\\Datasets\\Credit Risk Model Stability\\csv_files/train/train_debitcard_1.csv\n",
      "G:\\Data Science\\Datasets\\Credit Risk Model Stability\\csv_files/train/train_static_0_0.csv\n"
     ]
    },
    {
     "name": "stderr",
     "output_type": "stream",
     "text": [
      "C:\\Users\\TheDarkAce\\AppData\\Local\\Temp\\ipykernel_3728\\159905399.py:15: DtypeWarning: Columns (20,45,46,53,57,84,143,146,167) have mixed types. Specify dtype option on import or set low_memory=False.\n",
      "  temp_df = pd.read_csv(path)\n"
     ]
    },
    {
     "name": "stdout",
     "output_type": "stream",
     "text": [
      "G:\\Data Science\\Datasets\\Credit Risk Model Stability\\csv_files/train/train_static_0_1.csv\n"
     ]
    },
    {
     "name": "stderr",
     "output_type": "stream",
     "text": [
      "C:\\Users\\TheDarkAce\\AppData\\Local\\Temp\\ipykernel_3728\\159905399.py:15: DtypeWarning: Columns (20,45,46,56,57,84,143,146,167) have mixed types. Specify dtype option on import or set low_memory=False.\n",
      "  temp_df = pd.read_csv(path)\n"
     ]
    },
    {
     "name": "stdout",
     "output_type": "stream",
     "text": [
      "G:\\Data Science\\Datasets\\Credit Risk Model Stability\\csv_files/train/train_static_cb_0.csv\n"
     ]
    },
    {
     "name": "stderr",
     "output_type": "stream",
     "text": [
      "C:\\Users\\TheDarkAce\\AppData\\Local\\Temp\\ipykernel_3728\\159905399.py:15: DtypeWarning: Columns (1,2,3,4,7,45,46,47,48) have mixed types. Specify dtype option on import or set low_memory=False.\n",
      "  temp_df = pd.read_csv(path)\n"
     ]
    },
    {
     "name": "stdout",
     "output_type": "stream",
     "text": [
      "G:\\Data Science\\Datasets\\Credit Risk Model Stability\\csv_files/train/train_other_1.csv\n",
      "G:\\Data Science\\Datasets\\Credit Risk Model Stability\\csv_files/train/train_person_1.csv\n"
     ]
    },
    {
     "name": "stderr",
     "output_type": "stream",
     "text": [
      "C:\\Users\\TheDarkAce\\AppData\\Local\\Temp\\ipykernel_3728\\159905399.py:15: DtypeWarning: Columns (16) have mixed types. Specify dtype option on import or set low_memory=False.\n",
      "  temp_df = pd.read_csv(path)\n"
     ]
    },
    {
     "name": "stdout",
     "output_type": "stream",
     "text": [
      "G:\\Data Science\\Datasets\\Credit Risk Model Stability\\csv_files/train/train_person_2.csv\n",
      "G:\\Data Science\\Datasets\\Credit Risk Model Stability\\csv_files/train/train_base.csv\n",
      "G:\\Data Science\\Datasets\\Credit Risk Model Stability\\csv_files/train/train_deposit_1.csv\n",
      "G:\\Data Science\\Datasets\\Credit Risk Model Stability\\csv_files/train/train_applprev_1_0.csv\n"
     ]
    },
    {
     "name": "stderr",
     "output_type": "stream",
     "text": [
      "C:\\Users\\TheDarkAce\\AppData\\Local\\Temp\\ipykernel_3728\\159905399.py:15: DtypeWarning: Columns (27) have mixed types. Specify dtype option on import or set low_memory=False.\n",
      "  temp_df = pd.read_csv(path)\n"
     ]
    },
    {
     "name": "stdout",
     "output_type": "stream",
     "text": [
      "G:\\Data Science\\Datasets\\Credit Risk Model Stability\\csv_files/train/train_applprev_1_1.csv\n"
     ]
    },
    {
     "name": "stderr",
     "output_type": "stream",
     "text": [
      "C:\\Users\\TheDarkAce\\AppData\\Local\\Temp\\ipykernel_3728\\159905399.py:15: DtypeWarning: Columns (27) have mixed types. Specify dtype option on import or set low_memory=False.\n",
      "  temp_df = pd.read_csv(path)\n"
     ]
    },
    {
     "name": "stdout",
     "output_type": "stream",
     "text": [
      "G:\\Data Science\\Datasets\\Credit Risk Model Stability\\csv_files/train/train_applprev_2.csv\n"
     ]
    }
   ],
   "source": [
    "# optimize the dfs\n",
    "# for data_cat in data_categories:\n",
    "#     optimize_dfs(data,data_cat)\n"
   ]
  },
  {
   "cell_type": "code",
   "execution_count": 71,
   "metadata": {},
   "outputs": [
    {
     "name": "stdout",
     "output_type": "stream",
     "text": [
      "defaultdict(<class 'list'>, {'applprev': ['G:\\\\Data Science\\\\Datasets\\\\Credit Risk Model Stability\\\\csv_files\\\\optimized_df/applprev_0.pkl', 'G:\\\\Data Science\\\\Datasets\\\\Credit Risk Model Stability\\\\csv_files\\\\optimized_df/applprev_1.pkl', 'G:\\\\Data Science\\\\Datasets\\\\Credit Risk Model Stability\\\\csv_files\\\\optimized_df/applprev_2.pkl'], 'base.csv': ['G:\\\\Data Science\\\\Datasets\\\\Credit Risk Model Stability\\\\csv_files\\\\optimized_df/base.csv_0.pkl'], 'credit': ['G:\\\\Data Science\\\\Datasets\\\\Credit Risk Model Stability\\\\csv_files\\\\optimized_df/credit_0.pkl', 'G:\\\\Data Science\\\\Datasets\\\\Credit Risk Model Stability\\\\csv_files\\\\optimized_df/credit_1.pkl', 'G:\\\\Data Science\\\\Datasets\\\\Credit Risk Model Stability\\\\csv_files\\\\optimized_df/credit_10.pkl', 'G:\\\\Data Science\\\\Datasets\\\\Credit Risk Model Stability\\\\csv_files\\\\optimized_df/credit_11.pkl', 'G:\\\\Data Science\\\\Datasets\\\\Credit Risk Model Stability\\\\csv_files\\\\optimized_df/credit_12.pkl', 'G:\\\\Data Science\\\\Datasets\\\\Credit Risk Model Stability\\\\csv_files\\\\optimized_df/credit_13.pkl', 'G:\\\\Data Science\\\\Datasets\\\\Credit Risk Model Stability\\\\csv_files\\\\optimized_df/credit_14.pkl', 'G:\\\\Data Science\\\\Datasets\\\\Credit Risk Model Stability\\\\csv_files\\\\optimized_df/credit_15.pkl', 'G:\\\\Data Science\\\\Datasets\\\\Credit Risk Model Stability\\\\csv_files\\\\optimized_df/credit_16.pkl', 'G:\\\\Data Science\\\\Datasets\\\\Credit Risk Model Stability\\\\csv_files\\\\optimized_df/credit_2.pkl', 'G:\\\\Data Science\\\\Datasets\\\\Credit Risk Model Stability\\\\csv_files\\\\optimized_df/credit_3.pkl', 'G:\\\\Data Science\\\\Datasets\\\\Credit Risk Model Stability\\\\csv_files\\\\optimized_df/credit_4.pkl', 'G:\\\\Data Science\\\\Datasets\\\\Credit Risk Model Stability\\\\csv_files\\\\optimized_df/credit_5.pkl', 'G:\\\\Data Science\\\\Datasets\\\\Credit Risk Model Stability\\\\csv_files\\\\optimized_df/credit_6.pkl', 'G:\\\\Data Science\\\\Datasets\\\\Credit Risk Model Stability\\\\csv_files\\\\optimized_df/credit_7.pkl', 'G:\\\\Data Science\\\\Datasets\\\\Credit Risk Model Stability\\\\csv_files\\\\optimized_df/credit_8.pkl', 'G:\\\\Data Science\\\\Datasets\\\\Credit Risk Model Stability\\\\csv_files\\\\optimized_df/credit_9.pkl'], 'debitcard': ['G:\\\\Data Science\\\\Datasets\\\\Credit Risk Model Stability\\\\csv_files\\\\optimized_df/debitcard_0.pkl'], 'deposit': ['G:\\\\Data Science\\\\Datasets\\\\Credit Risk Model Stability\\\\csv_files\\\\optimized_df/deposit_0.pkl'], 'other': ['G:\\\\Data Science\\\\Datasets\\\\Credit Risk Model Stability\\\\csv_files\\\\optimized_df/other_0.pkl'], 'person': ['G:\\\\Data Science\\\\Datasets\\\\Credit Risk Model Stability\\\\csv_files\\\\optimized_df/person_0.pkl', 'G:\\\\Data Science\\\\Datasets\\\\Credit Risk Model Stability\\\\csv_files\\\\optimized_df/person_1.pkl'], 'static': ['G:\\\\Data Science\\\\Datasets\\\\Credit Risk Model Stability\\\\csv_files\\\\optimized_df/static_0.pkl', 'G:\\\\Data Science\\\\Datasets\\\\Credit Risk Model Stability\\\\csv_files\\\\optimized_df/static_1.pkl', 'G:\\\\Data Science\\\\Datasets\\\\Credit Risk Model Stability\\\\csv_files\\\\optimized_df/static_2.pkl'], 'tax': ['G:\\\\Data Science\\\\Datasets\\\\Credit Risk Model Stability\\\\csv_files\\\\optimized_df/tax_0.pkl', 'G:\\\\Data Science\\\\Datasets\\\\Credit Risk Model Stability\\\\csv_files\\\\optimized_df/tax_1.pkl', 'G:\\\\Data Science\\\\Datasets\\\\Credit Risk Model Stability\\\\csv_files\\\\optimized_df/tax_2.pkl']})\n"
     ]
    }
   ],
   "source": [
    "# Reading from optimized folder\n",
    "train_dfs = os.listdir(optimized_df_path)\n",
    "data = defaultdict(list)\n",
    "for file_name in train_dfs:\n",
    "    name_split = file_name.split(\"_\")\n",
    "    data[name_split[0]].append(optimized_df_path + file_name)\n",
    "\n",
    "print(data)"
   ]
  },
  {
   "cell_type": "code",
   "execution_count": 73,
   "metadata": {},
   "outputs": [],
   "source": [
    "# base_df contains case id and basic stuff\n",
    "base_df = pd.read_csv(train_path + \"train_base.csv\")\n",
    "# load_data(data,'applprev')\n",
    "load_data(data,'credit')"
   ]
  },
  {
   "cell_type": "code",
   "execution_count": null,
   "metadata": {},
   "outputs": [
    {
     "data": {
      "text/html": [
       "<div>\n",
       "<style scoped>\n",
       "    .dataframe tbody tr th:only-of-type {\n",
       "        vertical-align: middle;\n",
       "    }\n",
       "\n",
       "    .dataframe tbody tr th {\n",
       "        vertical-align: top;\n",
       "    }\n",
       "\n",
       "    .dataframe thead th {\n",
       "        text-align: right;\n",
       "    }\n",
       "</style>\n",
       "<table border=\"1\" class=\"dataframe\">\n",
       "  <thead>\n",
       "    <tr style=\"text-align: right;\">\n",
       "      <th></th>\n",
       "      <th>case_id</th>\n",
       "      <th>date_decision</th>\n",
       "      <th>MONTH</th>\n",
       "      <th>WEEK_NUM</th>\n",
       "      <th>target</th>\n",
       "    </tr>\n",
       "  </thead>\n",
       "  <tbody>\n",
       "    <tr>\n",
       "      <th>0</th>\n",
       "      <td>0</td>\n",
       "      <td>2019-01-03</td>\n",
       "      <td>201901</td>\n",
       "      <td>0</td>\n",
       "      <td>0</td>\n",
       "    </tr>\n",
       "    <tr>\n",
       "      <th>1</th>\n",
       "      <td>1</td>\n",
       "      <td>2019-01-03</td>\n",
       "      <td>201901</td>\n",
       "      <td>0</td>\n",
       "      <td>0</td>\n",
       "    </tr>\n",
       "    <tr>\n",
       "      <th>2</th>\n",
       "      <td>2</td>\n",
       "      <td>2019-01-04</td>\n",
       "      <td>201901</td>\n",
       "      <td>0</td>\n",
       "      <td>0</td>\n",
       "    </tr>\n",
       "    <tr>\n",
       "      <th>3</th>\n",
       "      <td>3</td>\n",
       "      <td>2019-01-03</td>\n",
       "      <td>201901</td>\n",
       "      <td>0</td>\n",
       "      <td>0</td>\n",
       "    </tr>\n",
       "    <tr>\n",
       "      <th>4</th>\n",
       "      <td>4</td>\n",
       "      <td>2019-01-04</td>\n",
       "      <td>201901</td>\n",
       "      <td>0</td>\n",
       "      <td>1</td>\n",
       "    </tr>\n",
       "  </tbody>\n",
       "</table>\n",
       "</div>"
      ],
      "text/plain": [
       "   case_id date_decision   MONTH  WEEK_NUM  target\n",
       "0        0    2019-01-03  201901         0       0\n",
       "1        1    2019-01-03  201901         0       0\n",
       "2        2    2019-01-04  201901         0       0\n",
       "3        3    2019-01-03  201901         0       0\n",
       "4        4    2019-01-04  201901         0       1"
      ]
     },
     "execution_count": 19,
     "metadata": {},
     "output_type": "execute_result"
    }
   ],
   "source": [
    "# important stats on base df\n",
    "# total cases = 1526659\n",
    "#\n",
    "base_df.head()"
   ]
  },
  {
   "cell_type": "code",
   "execution_count": null,
   "metadata": {},
   "outputs": [
    {
     "data": {
      "text/plain": [
       "(3275770, 5)"
      ]
     },
     "execution_count": 20,
     "metadata": {},
     "output_type": "execute_result"
    }
   ],
   "source": [
    "data['credit'][0].shape\n"
   ]
  },
  {
   "cell_type": "code",
   "execution_count": 21,
   "metadata": {},
   "outputs": [
    {
     "name": "stdout",
     "output_type": "stream",
     "text": [
      "All columns and their null value counts\n",
      "case_id\n",
      "null percentage  0.0\n",
      "number of unique values  335275\n",
      "[388 405 409 410 411 414 415 416 417 418]\n",
      "\n",
      "annualeffectiverate_199L\n",
      "annualeffectiverate_199L has too many nulls\n",
      "\n",
      "annualeffectiverate_63L\n",
      "annualeffectiverate_63L has too many nulls\n",
      "\n",
      "classificationofcontr_13M\n",
      "null percentage  0.0\n",
      "number of unique values  11\n",
      "['ea6782cc' '4408ff0f' 'a55475b1' '01f63ac8' '00135d9c' 'be7b251d'\n",
      " '1cf4e481' '2c070815' '0d95a828' '87bdbcba']\n",
      "\n",
      "classificationofcontr_400M\n",
      "null percentage  0.0\n",
      "number of unique values  269\n",
      "['a55475b1' '42a42e75' '9158339f' 'ec922b98' 'ea6782cc' '01f63ac8'\n",
      " '00135d9c' '4d2b9cd0' 'e6e56e83' '601cfe5f']\n",
      "\n",
      "contractst_545M\n",
      "null percentage  0.0\n",
      "number of unique values  43\n",
      "['7241344e' 'a55475b1' '0dc85f9d' '8f3a197f' 'a52d5641' 'b919198c'\n",
      " '3d18d6ef' '885ce291' '7640edc3' 'e2e7d341']\n",
      "\n",
      "contractst_964M\n",
      "null percentage  0.0\n",
      "number of unique values  156\n",
      "['a55475b1' '7241344e' '4476359f' '9c5b185b' '88c858bd' 'b83056f9'\n",
      " '8f3a197f' 'fec76166' 'ec24545f' 'd7416962']\n",
      "\n",
      "contractsum_5085717L\n",
      "contractsum_5085717L has too many nulls\n",
      "\n",
      "credlmt_230A\n",
      "credlmt_230A has too many nulls\n",
      "\n",
      "credlmt_935A\n",
      "credlmt_935A has too many nulls\n",
      "\n",
      "dateofcredend_289D\n",
      "dateofcredend_289D has too many nulls\n",
      "\n",
      "dateofcredend_353D\n",
      "dateofcredend_353D has too many nulls\n",
      "\n",
      "dateofcredstart_181D\n",
      "dateofcredstart_181D has too many nulls\n",
      "\n",
      "dateofcredstart_739D\n",
      "dateofcredstart_739D has too many nulls\n",
      "\n",
      "dateofrealrepmt_138D\n",
      "dateofrealrepmt_138D has too many nulls\n",
      "\n",
      "debtoutstand_525A\n",
      "debtoutstand_525A has too many nulls\n",
      "\n",
      "debtoverdue_47A\n",
      "debtoverdue_47A has too many nulls\n",
      "\n",
      "description_351M\n",
      "null percentage  0.0\n",
      "number of unique values  12\n",
      "['a55475b1' 'f8e51f8d' '53179c19' '8a7423d5' '18e98e64' '1d89fa48'\n",
      " '95decc86' '6da7c7ed' '0349102c' '0cb4d552']\n",
      "\n",
      "dpdmax_139P\n",
      "dpdmax_139P has too many nulls\n",
      "\n",
      "dpdmax_757P\n",
      "dpdmax_757P has too many nulls\n",
      "\n",
      "dpdmaxdatemonth_442T\n",
      "dpdmaxdatemonth_442T has too many nulls\n",
      "\n",
      "dpdmaxdatemonth_89T\n",
      "dpdmaxdatemonth_89T has too many nulls\n",
      "\n",
      "dpdmaxdateyear_596T\n",
      "dpdmaxdateyear_596T has too many nulls\n",
      "\n",
      "dpdmaxdateyear_896T\n",
      "dpdmaxdateyear_896T has too many nulls\n",
      "\n",
      "financialinstitution_382M\n",
      "null percentage  0.0\n",
      "number of unique values  211\n",
      "['a55475b1' 'b619fa46' 'P40_52_135' '9a93e20f' 'P133_127_114' 'P20_84_65'\n",
      " '9325d851' 'P204_66_73' 'P150_136_157' 'P51_123_23']\n",
      "\n",
      "financialinstitution_591M\n",
      "null percentage  0.0\n",
      "number of unique values  137\n",
      "['P204_66_73' '55b002a9' 'a55475b1' 'P133_127_114' 'P150_136_157'\n",
      " '50babcd4' 'd6a7d943' '84d62c22' 'd35b8336' 'P51_123_23']\n",
      "\n",
      "instlamount_768A\n",
      "instlamount_768A has too many nulls\n",
      "\n",
      "instlamount_852A\n",
      "instlamount_852A has too many nulls\n",
      "\n",
      "interestrate_508L\n",
      "interestrate_508L has too many nulls\n",
      "\n",
      "lastupdate_1112D\n",
      "lastupdate_1112D has too many nulls\n",
      "\n",
      "lastupdate_388D\n",
      "lastupdate_388D has too many nulls\n",
      "\n",
      "monthlyinstlamount_332A\n",
      "monthlyinstlamount_332A has too many nulls\n",
      "\n",
      "monthlyinstlamount_674A\n",
      "monthlyinstlamount_674A has too many nulls\n",
      "\n",
      "nominalrate_281L\n",
      "nominalrate_281L has too many nulls\n",
      "\n",
      "nominalrate_498L\n",
      "nominalrate_498L has too many nulls\n",
      "\n",
      "num_group1\n",
      "null percentage  0.0\n",
      "number of unique values  281\n",
      "[1 0 2 3 4 5 6 7 8 9]\n",
      "\n",
      "numberofcontrsvalue_258L\n",
      "numberofcontrsvalue_258L has too many nulls\n",
      "\n",
      "numberofcontrsvalue_358L\n",
      "numberofcontrsvalue_358L has too many nulls\n",
      "\n",
      "numberofinstls_229L\n",
      "numberofinstls_229L has too many nulls\n",
      "\n",
      "numberofinstls_320L\n",
      "numberofinstls_320L has too many nulls\n",
      "\n",
      "numberofoutstandinstls_520L\n",
      "numberofoutstandinstls_520L has too many nulls\n",
      "\n",
      "numberofoutstandinstls_59L\n",
      "numberofoutstandinstls_59L has too many nulls\n",
      "\n",
      "numberofoverdueinstlmax_1039L\n",
      "numberofoverdueinstlmax_1039L has too many nulls\n",
      "\n",
      "numberofoverdueinstlmax_1151L\n",
      "numberofoverdueinstlmax_1151L has too many nulls\n",
      "\n",
      "numberofoverdueinstlmaxdat_148D\n",
      "numberofoverdueinstlmaxdat_148D has too many nulls\n",
      "\n",
      "numberofoverdueinstlmaxdat_641D\n",
      "numberofoverdueinstlmaxdat_641D has too many nulls\n",
      "\n",
      "numberofoverdueinstls_725L\n",
      "numberofoverdueinstls_725L has too many nulls\n",
      "\n",
      "numberofoverdueinstls_834L\n",
      "numberofoverdueinstls_834L has too many nulls\n",
      "\n",
      "outstandingamount_354A\n",
      "outstandingamount_354A has too many nulls\n",
      "\n",
      "outstandingamount_362A\n",
      "outstandingamount_362A has too many nulls\n",
      "\n",
      "overdueamount_31A\n",
      "overdueamount_31A has too many nulls\n",
      "\n",
      "overdueamount_659A\n",
      "overdueamount_659A has too many nulls\n",
      "\n",
      "overdueamountmax2_14A\n",
      "overdueamountmax2_14A has too many nulls\n",
      "\n",
      "overdueamountmax2_398A\n",
      "overdueamountmax2_398A has too many nulls\n",
      "\n",
      "overdueamountmax2date_1002D\n",
      "overdueamountmax2date_1002D has too many nulls\n",
      "\n",
      "overdueamountmax2date_1142D\n",
      "overdueamountmax2date_1142D has too many nulls\n",
      "\n",
      "overdueamountmax_155A\n",
      "overdueamountmax_155A has too many nulls\n",
      "\n",
      "overdueamountmax_35A\n",
      "overdueamountmax_35A has too many nulls\n",
      "\n",
      "overdueamountmaxdatemonth_284T\n",
      "overdueamountmaxdatemonth_284T has too many nulls\n",
      "\n",
      "overdueamountmaxdatemonth_365T\n",
      "overdueamountmaxdatemonth_365T has too many nulls\n",
      "\n",
      "overdueamountmaxdateyear_2T\n",
      "overdueamountmaxdateyear_2T has too many nulls\n",
      "\n",
      "overdueamountmaxdateyear_994T\n",
      "overdueamountmaxdateyear_994T has too many nulls\n",
      "\n",
      "periodicityofpmts_1102L\n",
      "periodicityofpmts_1102L has too many nulls\n",
      "\n",
      "periodicityofpmts_837L\n",
      "periodicityofpmts_837L has too many nulls\n",
      "\n",
      "prolongationcount_1120L\n",
      "prolongationcount_1120L has too many nulls\n",
      "\n",
      "prolongationcount_599L\n",
      "prolongationcount_599L has too many nulls\n",
      "\n",
      "purposeofcred_426M\n",
      "null percentage  0.0\n",
      "number of unique values  12\n",
      "['60c73645' '96a8fdfe' 'a55475b1' 'e19fdece' '7a7d6960' '9e302002'\n",
      " 'P188_162_121' '28bfa260' 'e8f3b178' '44164129']\n",
      "\n",
      "purposeofcred_874M\n",
      "null percentage  0.0\n",
      "number of unique values  18\n",
      "['a55475b1' '5065c2b8' 'e19fdece' '96a8fdfe' '60c73645' 'd9ae1a0e'\n",
      " '27b6de28' '89ccf2a3' 'ee7d1eb8' '5d1b0cdd']\n",
      "\n",
      "refreshdate_3813885D\n",
      "refreshdate_3813885D has too many nulls\n",
      "\n",
      "residualamount_488A\n",
      "residualamount_488A has too many nulls\n",
      "\n",
      "residualamount_856A\n",
      "residualamount_856A has too many nulls\n",
      "\n",
      "subjectrole_182M\n",
      "null percentage  0.0\n",
      "number of unique values  7\n",
      "['a55475b1' 'ab3c25cf' 'be4fd70b' 'daf49a8a' 'P28_48_88' '15f04f45'\n",
      " '0c42a10e']\n",
      "\n",
      "subjectrole_93M\n",
      "null percentage  0.0\n",
      "number of unique values  7\n",
      "['a55475b1' 'ab3c25cf' 'daf49a8a' 'be4fd70b' '15f04f45' '0c42a10e'\n",
      " '71ddaa88']\n",
      "\n",
      "totalamount_6A\n",
      "totalamount_6A has too many nulls\n",
      "\n",
      "totalamount_996A\n",
      "totalamount_996A has too many nulls\n",
      "\n",
      "totaldebtoverduevalue_178A\n",
      "totaldebtoverduevalue_178A has too many nulls\n",
      "\n",
      "totaldebtoverduevalue_718A\n",
      "totaldebtoverduevalue_718A has too many nulls\n",
      "\n",
      "totaloutstanddebtvalue_39A\n",
      "totaloutstanddebtvalue_39A has too many nulls\n",
      "\n",
      "totaloutstanddebtvalue_668A\n",
      "totaloutstanddebtvalue_668A has too many nulls\n",
      "\n"
     ]
    }
   ],
   "source": [
    "def basic_description(df,nulls_threshold = 0.3):\n",
    "    print(\"All columns and their null value counts\")\n",
    "    for i in df.columns:\n",
    "        nulls = df[i].isna().sum()\n",
    "        if (nulls/df.shape[0]) < nulls_threshold:\n",
    "            print(i)\n",
    "            print(\"null percentage \", nulls/df.shape[0])\n",
    "            print(\"number of unique values \", df[i].nunique())\n",
    "            print(df[i].unique()[:10])\n",
    "            print()\n",
    "        else:\n",
    "            print(i)\n",
    "            print(f\"{i} has too many nulls\")\n",
    "            print()\n",
    "    \n",
    "basic_description(data[\"credit\"][0])\n"
   ]
  },
  {
   "cell_type": "markdown",
   "metadata": {},
   "source": [
    "#####  Interesting things about the data\n",
    "* Appl prev\n",
    "\n",
    "    * Important columns : actualdpd_943P - days past due,credacc_credlmt_575A,credamount_590A,credtype_587L,currdebt_94A\n",
    "    district_544M,downpmt_134A,status_219L,tenor_203L\n",
    "    * Feature creation column - approvaldate_319D,credtype_587L,district_544M,dtlastpmt_581D,dtlastpmtallstes_3545839D,education_1138M,employedfrom_700D,familystate_726L,isdebitcard_527L,mainoccupationinc_437A,maxdpdtolerance_577P,outstandingdebt_522A,profession_152M,rejectreason_755M,rejectreasonclient_4145042M,revolvingaccount_394A,tenor_203L\n",
    "\n",
    "    * childnum_21L - why 20 unique values??\n",
    "\n",
    "* person\n",
    "    * Important columns : zipcode,education_927M,empl_industry_691L,gender_992L,mainoccupationinc_384A,type_25L\n",
    "\n",
    "* debitcard\n",
    "    * Important columns : \n",
    "* Tax\n",
    "    * Important columns : amount_4527230A\n",
    "\n",
    "    \n"
   ]
  },
  {
   "cell_type": "markdown",
   "metadata": {},
   "source": [
    "#### Feature engineering ideas \n",
    "* Feature around location (zipcode etc)\n",
    "* Feature around total debt, acc balance etc,\n",
    "* counts on number of accts, cards, \n",
    "* total of tenor \n",
    "* date from features\n",
    "\n"
   ]
  },
  {
   "cell_type": "code",
   "execution_count": 32,
   "metadata": {},
   "outputs": [
    {
     "data": {
      "text/plain": [
       "305137"
      ]
     },
     "execution_count": 32,
     "metadata": {},
     "output_type": "execute_result"
    }
   ],
   "source": []
  },
  {
   "cell_type": "code",
   "execution_count": null,
   "metadata": {},
   "outputs": [],
   "source": []
  }
 ],
 "metadata": {
  "kernelspec": {
   "display_name": "deeplearning",
   "language": "python",
   "name": "python3"
  },
  "language_info": {
   "codemirror_mode": {
    "name": "ipython",
    "version": 3
   },
   "file_extension": ".py",
   "mimetype": "text/x-python",
   "name": "python",
   "nbconvert_exporter": "python",
   "pygments_lexer": "ipython3",
   "version": "3.12.5"
  }
 },
 "nbformat": 4,
 "nbformat_minor": 2
}
