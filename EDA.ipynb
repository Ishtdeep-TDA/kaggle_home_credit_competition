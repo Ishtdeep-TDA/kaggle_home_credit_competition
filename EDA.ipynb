{
 "cells": [
  {
   "cell_type": "code",
   "execution_count": 2,
   "metadata": {},
   "outputs": [],
   "source": [
    "import numpy as np\n",
    "import pandas as pd\n",
    "import os\n",
    "from collections import defaultdict"
   ]
  },
  {
   "cell_type": "code",
   "execution_count": 3,
   "metadata": {},
   "outputs": [
    {
     "name": "stdout",
     "output_type": "stream",
     "text": [
      "['train_applprev_1_0.csv', 'train_applprev_1_1.csv', 'train_applprev_2.csv', 'train_base.csv', 'train_credit_bureau_a_1_0.csv', 'train_credit_bureau_a_1_1.csv', 'train_credit_bureau_a_1_2.csv', 'train_credit_bureau_a_1_3.csv', 'train_credit_bureau_a_2_0.csv', 'train_credit_bureau_a_2_1.csv', 'train_credit_bureau_a_2_10.csv', 'train_credit_bureau_a_2_2.csv', 'train_credit_bureau_a_2_3.csv', 'train_credit_bureau_a_2_4.csv', 'train_credit_bureau_a_2_5.csv', 'train_credit_bureau_a_2_6.csv', 'train_credit_bureau_a_2_7.csv', 'train_credit_bureau_a_2_8.csv', 'train_credit_bureau_a_2_9.csv', 'train_credit_bureau_b_1.csv', 'train_credit_bureau_b_2.csv', 'train_debitcard_1.csv', 'train_deposit_1.csv', 'train_other_1.csv', 'train_person_1.csv', 'train_person_2.csv', 'train_static_0_0.csv', 'train_static_0_1.csv', 'train_static_cb_0.csv', 'train_tax_registry_a_1.csv', 'train_tax_registry_b_1.csv', 'train_tax_registry_c_1.csv']\n",
      "['train_applprev_1_0.csv', 'train_applprev_1_1.csv', 'train_applprev_2.csv', 'train_base.csv', 'train_credit_bureau_a_1_0.csv', 'train_credit_bureau_a_1_1.csv', 'train_credit_bureau_a_1_2.csv', 'train_credit_bureau_a_1_3.csv', 'train_credit_bureau_a_2_0.csv', 'train_credit_bureau_a_2_1.csv', 'train_credit_bureau_a_2_10.csv', 'train_credit_bureau_a_2_2.csv', 'train_credit_bureau_a_2_3.csv', 'train_credit_bureau_a_2_4.csv', 'train_credit_bureau_a_2_5.csv', 'train_credit_bureau_a_2_6.csv', 'train_credit_bureau_a_2_7.csv', 'train_credit_bureau_a_2_8.csv', 'train_credit_bureau_a_2_9.csv', 'train_credit_bureau_b_1.csv', 'train_credit_bureau_b_2.csv', 'train_debitcard_1.csv', 'train_deposit_1.csv', 'train_other_1.csv', 'train_person_1.csv', 'train_person_2.csv', 'train_static_0_0.csv', 'train_static_0_1.csv', 'train_static_cb_0.csv', 'train_tax_registry_a_1.csv', 'train_tax_registry_b_1.csv', 'train_tax_registry_c_1.csv']\n"
     ]
    }
   ],
   "source": [
    "train_path = \"G:\\Data Science\\Datasets\\Credit Risk Model Stability\\csv_files/train/\"\n",
    "train_dfs = os.listdir(train_path)\n",
    "print(train_dfs)\n",
    "# train_dfs = [train_path + i for i in train_dfs]\n",
    "print(train_dfs)"
   ]
  },
  {
   "cell_type": "code",
   "execution_count": 4,
   "metadata": {},
   "outputs": [
    {
     "name": "stdout",
     "output_type": "stream",
     "text": [
      "{'tax', 'applprev', 'static', 'credit', 'deposit', 'person', 'other', 'base.csv', 'debitcard'}\n"
     ]
    }
   ],
   "source": [
    "data_categories = set([file_name.split(\"_\")[1] for file_name in train_dfs])\n",
    "print(data_categories)\n",
    "data = defaultdict(list)\n",
    "for file_name in train_dfs:\n",
    "    name_split = file_name.split(\"_\")\n",
    "    data[name_split[1]].append(train_path + file_name)\n",
    "\n",
    "def load_data(data_dict,category):\n",
    "    '''\n",
    "    Loads data according to the category in a df and stores it in the dictionary\n",
    "\n",
    "    '''\n",
    "    df_list = []\n",
    "    for path in data_dict[category]:    \n",
    "        temp_df = pd.read_csv(path)\n",
    "        df_list.append(temp_df)\n",
    "    data_dict[category] = df_list\n"
   ]
  },
  {
   "cell_type": "code",
   "execution_count": 5,
   "metadata": {},
   "outputs": [],
   "source": [
    "# base_df contains case id and basic stuff\n",
    "base_df = pd.read_csv(train_path + \"train_base.csv\")\n",
    "# load_data(data,'applprev')\n",
    "load_data(data,'debitcard')"
   ]
  },
  {
   "cell_type": "code",
   "execution_count": 6,
   "metadata": {},
   "outputs": [
    {
     "data": {
      "text/html": [
       "<div>\n",
       "<style scoped>\n",
       "    .dataframe tbody tr th:only-of-type {\n",
       "        vertical-align: middle;\n",
       "    }\n",
       "\n",
       "    .dataframe tbody tr th {\n",
       "        vertical-align: top;\n",
       "    }\n",
       "\n",
       "    .dataframe thead th {\n",
       "        text-align: right;\n",
       "    }\n",
       "</style>\n",
       "<table border=\"1\" class=\"dataframe\">\n",
       "  <thead>\n",
       "    <tr style=\"text-align: right;\">\n",
       "      <th></th>\n",
       "      <th>case_id</th>\n",
       "      <th>date_decision</th>\n",
       "      <th>MONTH</th>\n",
       "      <th>WEEK_NUM</th>\n",
       "      <th>target</th>\n",
       "    </tr>\n",
       "  </thead>\n",
       "  <tbody>\n",
       "    <tr>\n",
       "      <th>0</th>\n",
       "      <td>0</td>\n",
       "      <td>2019-01-03</td>\n",
       "      <td>201901</td>\n",
       "      <td>0</td>\n",
       "      <td>0</td>\n",
       "    </tr>\n",
       "    <tr>\n",
       "      <th>1</th>\n",
       "      <td>1</td>\n",
       "      <td>2019-01-03</td>\n",
       "      <td>201901</td>\n",
       "      <td>0</td>\n",
       "      <td>0</td>\n",
       "    </tr>\n",
       "    <tr>\n",
       "      <th>2</th>\n",
       "      <td>2</td>\n",
       "      <td>2019-01-04</td>\n",
       "      <td>201901</td>\n",
       "      <td>0</td>\n",
       "      <td>0</td>\n",
       "    </tr>\n",
       "    <tr>\n",
       "      <th>3</th>\n",
       "      <td>3</td>\n",
       "      <td>2019-01-03</td>\n",
       "      <td>201901</td>\n",
       "      <td>0</td>\n",
       "      <td>0</td>\n",
       "    </tr>\n",
       "    <tr>\n",
       "      <th>4</th>\n",
       "      <td>4</td>\n",
       "      <td>2019-01-04</td>\n",
       "      <td>201901</td>\n",
       "      <td>0</td>\n",
       "      <td>1</td>\n",
       "    </tr>\n",
       "  </tbody>\n",
       "</table>\n",
       "</div>"
      ],
      "text/plain": [
       "   case_id date_decision   MONTH  WEEK_NUM  target\n",
       "0        0    2019-01-03  201901         0       0\n",
       "1        1    2019-01-03  201901         0       0\n",
       "2        2    2019-01-04  201901         0       0\n",
       "3        3    2019-01-03  201901         0       0\n",
       "4        4    2019-01-04  201901         0       1"
      ]
     },
     "execution_count": 6,
     "metadata": {},
     "output_type": "execute_result"
    }
   ],
   "source": [
    "# important stats on base df\n",
    "# total cases = 1526659\n",
    "#\n",
    "base_df.head()"
   ]
  },
  {
   "cell_type": "code",
   "execution_count": 7,
   "metadata": {},
   "outputs": [
    {
     "data": {
      "text/plain": [
       "1"
      ]
     },
     "execution_count": 7,
     "metadata": {},
     "output_type": "execute_result"
    }
   ],
   "source": [
    "len(data[\"debitcard\"])"
   ]
  },
  {
   "cell_type": "code",
   "execution_count": 8,
   "metadata": {},
   "outputs": [
    {
     "name": "stdout",
     "output_type": "stream",
     "text": [
      "All columns and their null value counts\n",
      "case_id\n",
      "null percentage  0.0\n",
      "number of unique values  111772\n",
      "[225 331 358 390 445 450 453 582 649 697]\n",
      "\n",
      "last180dayaveragebalance_704A\n",
      "null percentage  0.922340466109776\n",
      "number of unique values  2495\n",
      "[          nan 0.0000000e+00 2.5145560e+00 6.9115600e-01 1.8276545e+01\n",
      " 1.7412056e+01 1.1111111e+02 5.0540004e+00 2.3000000e+01 1.6666666e+03]\n",
      "\n",
      "last180dayturnover_1134A\n",
      "null percentage  0.9295558861298648\n",
      "number of unique values  2581\n",
      "[       nan 5.0000e+04 7.0000e-02 1.3288e+02 1.0000e+05 6.0000e+04\n",
      " 4.7400e+04 9.0554e+03 3.0000e+04 2.0000e+04]\n",
      "\n",
      "last30dayturnover_651A\n",
      "null percentage  0.9295558861298648\n",
      "number of unique values  482\n",
      "[       nan      0.    100000.    150000.     64000.     65800.\n",
      "  13870.     24100.     24224.201  10100.   ]\n",
      "\n",
      "num_group1\n",
      "null percentage  0.0\n",
      "number of unique values  66\n",
      "[0 1 2 3 4 5 6 7 8 9]\n",
      "\n",
      "openingdate_857D\n",
      "null percentage  0.08080634702673838\n",
      "number of unique values  1578\n",
      "['2016-08-16' '2015-03-19' '2014-09-02' '2014-07-23' '2015-10-01'\n",
      " '2016-06-08' '2015-04-27' '2015-08-01' '2015-12-10' '2016-02-22']\n",
      "\n"
     ]
    }
   ],
   "source": [
    "def basic_description(df,nulls_threshold = 0.3):\n",
    "    print(\"All columns and their null value counts\")\n",
    "    for i in df.columns:\n",
    "        nulls = df[i].isna().sum()\n",
    "        if (nulls/df.shape[0]) < nulls_threshold:\n",
    "            print(i)\n",
    "            print(\"null percentage \", nulls/df.shape[0])\n",
    "            print(\"number of unique values \", df[i].nunique())\n",
    "            print(df[i].unique()[:10])\n",
    "            print()\n",
    "        else:\n",
    "            print(i)\n",
    "            print(f\"{i} has too many nulls\")\n",
    "            print()\n",
    "    \n",
    "basic_description(data[\"debitcard\"][0],1)\n"
   ]
  },
  {
   "cell_type": "markdown",
   "metadata": {},
   "source": [
    "#####  Interesting things about the data\n",
    "* Appl prev\n",
    "\n",
    "    * Important columns : actualdpd_943P - days past due,credacc_credlmt_575A,credamount_590A,credtype_587L,currdebt_94A\n",
    "    district_544M,downpmt_134A,status_219L,tenor_203L\n",
    "    * Feature creation column - approvaldate_319D,credtype_587L,district_544M,dtlastpmt_581D,dtlastpmtallstes_3545839D,education_1138M,employedfrom_700D,familystate_726L,isdebitcard_527L,mainoccupationinc_437A,maxdpdtolerance_577P,outstandingdebt_522A,profession_152M,rejectreason_755M,rejectreasonclient_4145042M,revolvingaccount_394A,tenor_203L\n",
    "\n",
    "    * childnum_21L - why 20 unique values??\n",
    "\n",
    "* person\n",
    "    * Important columns : zipcode,education_927M,empl_industry_691L,gender_992L,mainoccupationinc_384A,type_25L\n",
    "\n",
    "* debitcard\n",
    "    * Important columns : \n",
    "\n",
    "\n",
    "    \n"
   ]
  },
  {
   "cell_type": "markdown",
   "metadata": {},
   "source": [
    "#### Feature engineering ideas \n",
    "* Feature around location (zipcode etc)\n",
    "* Feature around total debt, acc balance etc,\n",
    "* counts on number of accts, cards, \n",
    "* total of tenor \n",
    "* date from features\n",
    "\n"
   ]
  },
  {
   "cell_type": "code",
   "execution_count": 32,
   "metadata": {},
   "outputs": [
    {
     "data": {
      "text/plain": [
       "305137"
      ]
     },
     "execution_count": 32,
     "metadata": {},
     "output_type": "execute_result"
    }
   ],
   "source": []
  },
  {
   "cell_type": "code",
   "execution_count": null,
   "metadata": {},
   "outputs": [],
   "source": []
  }
 ],
 "metadata": {
  "kernelspec": {
   "display_name": "deeplearning",
   "language": "python",
   "name": "python3"
  },
  "language_info": {
   "codemirror_mode": {
    "name": "ipython",
    "version": 3
   },
   "file_extension": ".py",
   "mimetype": "text/x-python",
   "name": "python",
   "nbconvert_exporter": "python",
   "pygments_lexer": "ipython3",
   "version": "3.9.16"
  }
 },
 "nbformat": 4,
 "nbformat_minor": 2
}
